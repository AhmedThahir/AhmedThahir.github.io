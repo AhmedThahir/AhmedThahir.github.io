{
 "cells": [
  {
   "cell_type": "code",
   "execution_count": 11,
   "metadata": {
    "scrolled": true
   },
   "outputs": [
    {
     "name": "stdout",
     "output_type": "stream",
     "text": [
      "x = 3\n",
      "y = 4\n",
      "n = 1/100\n"
     ]
    }
   ],
   "source": [
    "## finding nth root of a given complex number\n",
    "\n",
    "## input\n",
    "x = float(input(\"x = \"))\n",
    "y = float(input(\"y = \"))\n",
    "n = int(input(\"n = 1/\"))\n"
   ]
  },
  {
   "cell_type": "code",
   "execution_count": 21,
   "metadata": {
    "scrolled": false
   },
   "outputs": [
    {
     "name": "stdout",
     "output_type": "stream",
     "text": [
      "The number you have inputted is (3+4j) ^ 1/100\n"
     ]
    },
    {
     "data": {
      "text/latex": [
       "$ (3+4j) ^\\frac 1 {100} $"
      ],
      "text/plain": [
       "<IPython.core.display.Latex object>"
      ]
     },
     "metadata": {},
     "output_type": "display_data"
    },
    {
     "name": "stdout",
     "output_type": "stream",
     "text": [
      "Number of real roots are 0\n",
      "Number of imaginary roots are 100\n",
      "\n",
      "The Real roots (rounded to 2 decimal places) are:\n",
      "\n",
      "The Imaginary roots (rounded to 2 decimal places) are:\n",
      "(1.02+0.01j)\n",
      "(1.01+0.07j)\n",
      "(1.01+0.14j)\n",
      "(1+0.2j)\n",
      "(0.98+0.26j)\n",
      "(0.96+0.32j)\n",
      "(0.94+0.38j)\n",
      "(0.92+0.44j)\n",
      "(0.89+0.5j)\n",
      "(0.85+0.55j)\n",
      "(0.82+0.6j)\n",
      "(0.78+0.65j)\n",
      "(0.73+0.7j)\n",
      "(0.69+0.75j)\n",
      "(0.64+0.79j)\n",
      "(0.59+0.83j)\n",
      "(0.54+0.86j)\n",
      "(0.48+0.9j)\n",
      "(0.42+0.92j)\n",
      "(0.37+0.95j)\n",
      "(0.31+0.97j)\n",
      "(0.24+0.99j)\n",
      "(0.18+1j)\n",
      "(0.12+1.01j)\n",
      "(0.05+1.01j)\n",
      "(-0.01+1.02j)\n",
      "(-0.07+1.01j)\n",
      "(-0.14+1.01j)\n",
      "(-0.2+1j)\n",
      "(-0.26+0.98j)\n",
      "(-0.32+0.96j)\n",
      "(-0.38+0.94j)\n",
      "(-0.44+0.92j)\n",
      "(-0.5+0.89j)\n",
      "(-0.55+0.85j)\n",
      "(-0.6+0.82j)\n",
      "(-0.65+0.78j)\n",
      "(-0.7+0.73j)\n",
      "(-0.75+0.69j)\n",
      "(-0.79+0.64j)\n",
      "(-0.83+0.59j)\n",
      "(-0.86+0.54j)\n",
      "(-0.9+0.48j)\n",
      "(-0.92+0.42j)\n",
      "(-0.95+0.37j)\n",
      "(-0.97+0.31j)\n",
      "(-0.99+0.24j)\n",
      "(-1+0.18j)\n",
      "(-1.01+0.12j)\n",
      "(-1.01+0.05j)\n",
      "(-1.02-0.01j)\n",
      "(-1.01-0.07j)\n",
      "(-1.01-0.14j)\n",
      "(-1-0.2j)\n",
      "(-0.98-0.26j)\n",
      "(-0.96-0.32j)\n",
      "(-0.94-0.38j)\n",
      "(-0.92-0.44j)\n",
      "(-0.89-0.5j)\n",
      "(-0.85-0.55j)\n",
      "(-0.82-0.6j)\n",
      "(-0.78-0.65j)\n",
      "(-0.73-0.7j)\n",
      "(-0.69-0.75j)\n",
      "(-0.64-0.79j)\n",
      "(-0.59-0.83j)\n",
      "(-0.54-0.86j)\n",
      "(-0.48-0.9j)\n",
      "(-0.42-0.92j)\n",
      "(-0.37-0.95j)\n",
      "(-0.31-0.97j)\n",
      "(-0.24-0.99j)\n",
      "(-0.18-1j)\n",
      "(-0.12-1.01j)\n",
      "(-0.05-1.01j)\n",
      "(0.01-1.02j)\n",
      "(0.07-1.01j)\n",
      "(0.14-1.01j)\n",
      "(0.2-1j)\n",
      "(0.26-0.98j)\n",
      "(0.32-0.96j)\n",
      "(0.38-0.94j)\n",
      "(0.44-0.92j)\n",
      "(0.5-0.89j)\n",
      "(0.55-0.85j)\n",
      "(0.6-0.82j)\n",
      "(0.65-0.78j)\n",
      "(0.7-0.73j)\n",
      "(0.75-0.69j)\n",
      "(0.79-0.64j)\n",
      "(0.83-0.59j)\n",
      "(0.86-0.54j)\n",
      "(0.9-0.48j)\n",
      "(0.92-0.42j)\n",
      "(0.95-0.37j)\n",
      "(0.97-0.31j)\n",
      "(0.99-0.24j)\n",
      "(1-0.18j)\n",
      "(1.01-0.12j)\n",
      "(1.01-0.05j)\n"
     ]
    }
   ],
   "source": [
    "## processing\n",
    "\n",
    "places = 2\n",
    "import math\n",
    "import cmath\n",
    "r = math.sqrt(x**2 + y**2)\n",
    "Arg = cmath.phase(complex(x, y))\n",
    "\n",
    "nr = 0 ## no of real roots is 0\n",
    "ni = 0 ## no of imaginary roots is 0\n",
    "\n",
    "#roots\n",
    "rx = []\n",
    "ry = []\n",
    "\n",
    "for k in range(n): ## finding the roots\n",
    "    theta = Arg + 2*k*math.pi\n",
    "    rx.append( round(pow(r, 1/n) * math.cos(theta / n), places) )\n",
    "    ry.append( round(pow(r, 1/n) * math.sin(theta / n), places))\n",
    "\n",
    "for k in range(n): ## \n",
    "    if ry[k] == 0:\n",
    "        nr+=1\n",
    "    else:\n",
    "        ni+=1\n",
    "\n",
    "## print(\"The number you have inputted is \", complex(x, y), \" ^ 1/\", n, sep = '')\n",
    "print(\"The number you have inputted is \", complex(x, y), \" ^ 1/\", n, sep = '')\n",
    "\n",
    "from IPython.display import display, Latex\n",
    "display(Latex(\n",
    "    rf'$ { complex(x, y) } ^\\frac 1 {{{n}}} $'\n",
    "    ))\n",
    "\n",
    "print(\"Number of real roots are\", nr)\n",
    "print(\"Number of imaginary roots are\", ni)\n",
    "    \n",
    "print(\"\\nThe Real roots (rounded to\", places, \"decimal places) are:\")\n",
    "for k in range(n): ## \n",
    "    if ry[k] == 0:\n",
    "        print( complex(rx[k]) )\n",
    "print(\"\\nThe Imaginary roots (rounded to\", places, \"decimal places) are:\")\n",
    "for k in range(n):\n",
    "    if ry[k] !=0:\n",
    "        print( complex(rx[k], ry[k]) )"
   ]
  },
  {
   "cell_type": "code",
   "execution_count": 4,
   "metadata": {
    "scrolled": false
   },
   "outputs": [
    {
     "ename": "OSError",
     "evalue": "'presentation.mplstyle' not found in the style library and input is not a valid URL or path; see `style.available` for list of available styles",
     "output_type": "error",
     "traceback": [
      "\u001b[1;31m---------------------------------------------------------------------------\u001b[0m",
      "\u001b[1;31mFileNotFoundError\u001b[0m                         Traceback (most recent call last)",
      "\u001b[1;32m~\\anaconda3\\lib\\site-packages\\matplotlib\\style\\core.py\u001b[0m in \u001b[0;36muse\u001b[1;34m(style)\u001b[0m\n\u001b[0;32m    120\u001b[0m             \u001b[1;32mtry\u001b[0m\u001b[1;33m:\u001b[0m\u001b[1;33m\u001b[0m\u001b[1;33m\u001b[0m\u001b[0m\n\u001b[1;32m--> 121\u001b[1;33m                 \u001b[0mrc\u001b[0m \u001b[1;33m=\u001b[0m \u001b[0mrc_params_from_file\u001b[0m\u001b[1;33m(\u001b[0m\u001b[0mstyle\u001b[0m\u001b[1;33m,\u001b[0m \u001b[0muse_default_template\u001b[0m\u001b[1;33m=\u001b[0m\u001b[1;32mFalse\u001b[0m\u001b[1;33m)\u001b[0m\u001b[1;33m\u001b[0m\u001b[1;33m\u001b[0m\u001b[0m\n\u001b[0m\u001b[0;32m    122\u001b[0m                 \u001b[0m_apply_style\u001b[0m\u001b[1;33m(\u001b[0m\u001b[0mrc\u001b[0m\u001b[1;33m)\u001b[0m\u001b[1;33m\u001b[0m\u001b[1;33m\u001b[0m\u001b[0m\n",
      "\u001b[1;32m~\\anaconda3\\lib\\site-packages\\matplotlib\\__init__.py\u001b[0m in \u001b[0;36mrc_params_from_file\u001b[1;34m(fname, fail_on_error, use_default_template)\u001b[0m\n\u001b[0;32m    873\u001b[0m     \"\"\"\n\u001b[1;32m--> 874\u001b[1;33m     \u001b[0mconfig_from_file\u001b[0m \u001b[1;33m=\u001b[0m \u001b[0m_rc_params_in_file\u001b[0m\u001b[1;33m(\u001b[0m\u001b[0mfname\u001b[0m\u001b[1;33m,\u001b[0m \u001b[0mfail_on_error\u001b[0m\u001b[1;33m=\u001b[0m\u001b[0mfail_on_error\u001b[0m\u001b[1;33m)\u001b[0m\u001b[1;33m\u001b[0m\u001b[1;33m\u001b[0m\u001b[0m\n\u001b[0m\u001b[0;32m    875\u001b[0m \u001b[1;33m\u001b[0m\u001b[0m\n",
      "\u001b[1;32m~\\anaconda3\\lib\\site-packages\\matplotlib\\__init__.py\u001b[0m in \u001b[0;36m_rc_params_in_file\u001b[1;34m(fname, transform, fail_on_error)\u001b[0m\n\u001b[0;32m    802\u001b[0m     \u001b[0mrc_temp\u001b[0m \u001b[1;33m=\u001b[0m \u001b[1;33m{\u001b[0m\u001b[1;33m}\u001b[0m\u001b[1;33m\u001b[0m\u001b[1;33m\u001b[0m\u001b[0m\n\u001b[1;32m--> 803\u001b[1;33m     \u001b[1;32mwith\u001b[0m \u001b[0m_open_file_or_url\u001b[0m\u001b[1;33m(\u001b[0m\u001b[0mfname\u001b[0m\u001b[1;33m)\u001b[0m \u001b[1;32mas\u001b[0m \u001b[0mfd\u001b[0m\u001b[1;33m:\u001b[0m\u001b[1;33m\u001b[0m\u001b[1;33m\u001b[0m\u001b[0m\n\u001b[0m\u001b[0;32m    804\u001b[0m         \u001b[1;32mtry\u001b[0m\u001b[1;33m:\u001b[0m\u001b[1;33m\u001b[0m\u001b[1;33m\u001b[0m\u001b[0m\n",
      "\u001b[1;32m~\\anaconda3\\lib\\contextlib.py\u001b[0m in \u001b[0;36m__enter__\u001b[1;34m(self)\u001b[0m\n\u001b[0;32m    112\u001b[0m         \u001b[1;32mtry\u001b[0m\u001b[1;33m:\u001b[0m\u001b[1;33m\u001b[0m\u001b[1;33m\u001b[0m\u001b[0m\n\u001b[1;32m--> 113\u001b[1;33m             \u001b[1;32mreturn\u001b[0m \u001b[0mnext\u001b[0m\u001b[1;33m(\u001b[0m\u001b[0mself\u001b[0m\u001b[1;33m.\u001b[0m\u001b[0mgen\u001b[0m\u001b[1;33m)\u001b[0m\u001b[1;33m\u001b[0m\u001b[1;33m\u001b[0m\u001b[0m\n\u001b[0m\u001b[0;32m    114\u001b[0m         \u001b[1;32mexcept\u001b[0m \u001b[0mStopIteration\u001b[0m\u001b[1;33m:\u001b[0m\u001b[1;33m\u001b[0m\u001b[1;33m\u001b[0m\u001b[0m\n",
      "\u001b[1;32m~\\anaconda3\\lib\\site-packages\\matplotlib\\__init__.py\u001b[0m in \u001b[0;36m_open_file_or_url\u001b[1;34m(fname)\u001b[0m\n\u001b[0;32m    780\u001b[0m             \u001b[0mencoding\u001b[0m \u001b[1;33m=\u001b[0m \u001b[1;34m\"utf-8\"\u001b[0m\u001b[1;33m\u001b[0m\u001b[1;33m\u001b[0m\u001b[0m\n\u001b[1;32m--> 781\u001b[1;33m         \u001b[1;32mwith\u001b[0m \u001b[0mopen\u001b[0m\u001b[1;33m(\u001b[0m\u001b[0mfname\u001b[0m\u001b[1;33m,\u001b[0m \u001b[0mencoding\u001b[0m\u001b[1;33m=\u001b[0m\u001b[0mencoding\u001b[0m\u001b[1;33m)\u001b[0m \u001b[1;32mas\u001b[0m \u001b[0mf\u001b[0m\u001b[1;33m:\u001b[0m\u001b[1;33m\u001b[0m\u001b[1;33m\u001b[0m\u001b[0m\n\u001b[0m\u001b[0;32m    782\u001b[0m             \u001b[1;32myield\u001b[0m \u001b[0mf\u001b[0m\u001b[1;33m\u001b[0m\u001b[1;33m\u001b[0m\u001b[0m\n",
      "\u001b[1;31mFileNotFoundError\u001b[0m: [Errno 2] No such file or directory: 'presentation.mplstyle'",
      "\nThe above exception was the direct cause of the following exception:\n",
      "\u001b[1;31mOSError\u001b[0m                                   Traceback (most recent call last)",
      "\u001b[1;32m<ipython-input-4-542dff6d36c6>\u001b[0m in \u001b[0;36m<module>\u001b[1;34m\u001b[0m\n\u001b[0;32m      7\u001b[0m \u001b[0mwarnings\u001b[0m\u001b[1;33m.\u001b[0m\u001b[0mfilterwarnings\u001b[0m\u001b[1;33m(\u001b[0m\u001b[1;34m'ignore'\u001b[0m\u001b[1;33m)\u001b[0m\u001b[1;33m\u001b[0m\u001b[1;33m\u001b[0m\u001b[0m\n\u001b[0;32m      8\u001b[0m \u001b[1;31m#plot styles\u001b[0m\u001b[1;33m\u001b[0m\u001b[1;33m\u001b[0m\u001b[1;33m\u001b[0m\u001b[0m\n\u001b[1;32m----> 9\u001b[1;33m \u001b[0mplt\u001b[0m\u001b[1;33m.\u001b[0m\u001b[0mstyle\u001b[0m\u001b[1;33m.\u001b[0m\u001b[0muse\u001b[0m\u001b[1;33m(\u001b[0m\u001b[1;34m'presentation.mplstyle'\u001b[0m\u001b[1;33m)\u001b[0m\u001b[1;33m\u001b[0m\u001b[1;33m\u001b[0m\u001b[0m\n\u001b[0m\u001b[0;32m     10\u001b[0m \u001b[0mplt\u001b[0m\u001b[1;33m.\u001b[0m\u001b[0mtitle\u001b[0m\u001b[1;33m(\u001b[0m\u001b[1;34m\"Plot of Coordinates\"\u001b[0m\u001b[1;33m)\u001b[0m\u001b[1;33m\u001b[0m\u001b[1;33m\u001b[0m\u001b[0m\n\u001b[0;32m     11\u001b[0m \u001b[1;32mfor\u001b[0m \u001b[0mdirection\u001b[0m \u001b[1;32min\u001b[0m \u001b[1;33m[\u001b[0m\u001b[1;34m'top'\u001b[0m\u001b[1;33m,\u001b[0m \u001b[1;34m'bottom'\u001b[0m\u001b[1;33m,\u001b[0m \u001b[1;34m'left'\u001b[0m\u001b[1;33m,\u001b[0m \u001b[1;34m'right'\u001b[0m\u001b[1;33m]\u001b[0m\u001b[1;33m:\u001b[0m\u001b[1;33m\u001b[0m\u001b[1;33m\u001b[0m\u001b[0m\n",
      "\u001b[1;32m~\\anaconda3\\lib\\site-packages\\matplotlib\\style\\core.py\u001b[0m in \u001b[0;36muse\u001b[1;34m(style)\u001b[0m\n\u001b[0;32m    122\u001b[0m                 \u001b[0m_apply_style\u001b[0m\u001b[1;33m(\u001b[0m\u001b[0mrc\u001b[0m\u001b[1;33m)\u001b[0m\u001b[1;33m\u001b[0m\u001b[1;33m\u001b[0m\u001b[0m\n\u001b[0;32m    123\u001b[0m             \u001b[1;32mexcept\u001b[0m \u001b[0mIOError\u001b[0m \u001b[1;32mas\u001b[0m \u001b[0merr\u001b[0m\u001b[1;33m:\u001b[0m\u001b[1;33m\u001b[0m\u001b[1;33m\u001b[0m\u001b[0m\n\u001b[1;32m--> 124\u001b[1;33m                 raise IOError(\n\u001b[0m\u001b[0;32m    125\u001b[0m                     \u001b[1;34m\"{!r} not found in the style library and input is not a \"\u001b[0m\u001b[1;33m\u001b[0m\u001b[1;33m\u001b[0m\u001b[0m\n\u001b[0;32m    126\u001b[0m                     \u001b[1;34m\"valid URL or path; see `style.available` for list of \"\u001b[0m\u001b[1;33m\u001b[0m\u001b[1;33m\u001b[0m\u001b[0m\n",
      "\u001b[1;31mOSError\u001b[0m: 'presentation.mplstyle' not found in the style library and input is not a valid URL or path; see `style.available` for list of available styles"
     ]
    }
   ],
   "source": [
    "#graphing\n",
    "\n",
    "#misc\n",
    "import matplotlib.pyplot as plt\n",
    "%matplotlib inline\n",
    "import warnings\n",
    "warnings.filterwarnings('ignore')\n",
    "#plot styles\n",
    "plt.style.use('presentation.mplstyle')\n",
    "plt.title(\"Plot of Coordinates\")\n",
    "for direction in ['top', 'bottom', 'left', 'right']:\n",
    "    plt.axes().spines[direction].set_position('zero')\n",
    "plt.grid()\n",
    "#extra details\n",
    "plt.text(x + 0.05, y + 0.10, '({}, {})'.format(round(x, places), round(y, places)), size = 'large')\n",
    "for i_x, i_y in zip(rx, ry):\n",
    "    kx = ky = 0.05\n",
    "    if (i_x < 0 and i_x > -2.0 and abs(x) + i_x > 15):\n",
    "        kx = -2\n",
    "    if (i_y < 0 and i_y > -2.0 and abs(y) + i_y > 15):\n",
    "        ky = -2\n",
    "    plt.text(i_x + kx, i_y + ky, '({}, {})'.format(round(i_x, places), round(i_y, places)) , size = 'x-large') \n",
    "\n",
    "#plotting\n",
    "plt.plot(x, y, 'o')\n",
    "plt.plot(rx, ry, 'o')\n",
    "plt.legend( [complex(x, y), \"Roots\"] , markerscale = 3, fontsize = 30)\n",
    "plt.show()"
   ]
  }
 ],
 "metadata": {
  "kernelspec": {
   "display_name": "Python 3",
   "language": "python",
   "name": "python3"
  },
  "language_info": {
   "codemirror_mode": {
    "name": "ipython",
    "version": 3
   },
   "file_extension": ".py",
   "mimetype": "text/x-python",
   "name": "python",
   "nbconvert_exporter": "python",
   "pygments_lexer": "ipython3",
   "version": "3.8.5"
  }
 },
 "nbformat": 4,
 "nbformat_minor": 4
}
