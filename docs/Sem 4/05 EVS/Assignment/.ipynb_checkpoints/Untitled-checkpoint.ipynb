{
 "cells": [
  {
   "cell_type": "code",
   "execution_count": 1,
   "id": "25f27b63",
   "metadata": {
    "scrolled": true
   },
   "outputs": [],
   "source": [
    "## pip install wordcloud"
   ]
  },
  {
   "cell_type": "code",
   "execution_count": 2,
   "id": "82d306f7",
   "metadata": {},
   "outputs": [],
   "source": [
    "import matplotlib.pyplot as plt\n",
    "from wordcloud import STOPWORDS, WordCloud"
   ]
  },
  {
   "cell_type": "code",
   "execution_count": 5,
   "id": "42f5c628",
   "metadata": {},
   "outputs": [
    {
     "data": {
      "text/plain": [
       "<wordcloud.wordcloud.WordCloud at 0x25d1c85fcd0>"
      ]
     },
     "execution_count": 5,
     "metadata": {},
     "output_type": "execute_result"
    }
   ],
   "source": [
    "input_file = \"evs.txt\"\n",
    "text = open(input_file, mode=\"r\").read()\n",
    "\n",
    "wordcloud = WordCloud(\n",
    "    background_color=\"white\",\n",
    "    width=1080,\n",
    "    height=720,\n",
    "    stopwords=STOPWORDS\n",
    ")\n",
    "wordcloud.generate(text)"
   ]
  },
  {
   "cell_type": "code",
   "execution_count": 6,
   "id": "b9667848",
   "metadata": {},
   "outputs": [
    {
     "data": {
      "text/plain": [
       "<wordcloud.wordcloud.WordCloud at 0x25d1c85fcd0>"
      ]
     },
     "execution_count": 6,
     "metadata": {},
     "output_type": "execute_result"
    }
   ],
   "source": [
    "output_file = input_file[:-4] + \"_wordcloud.png\" ## removing the extension\n",
    "wordcloud.to_file(output_file)"
   ]
  }
 ],
 "metadata": {
  "kernelspec": {
   "display_name": "Python 3",
   "language": "python",
   "name": "python3"
  },
  "language_info": {
   "codemirror_mode": {
    "name": "ipython",
    "version": 3
   },
   "file_extension": ".py",
   "mimetype": "text/x-python",
   "name": "python",
   "nbconvert_exporter": "python",
   "pygments_lexer": "ipython3",
   "version": "3.8.8"
  }
 },
 "nbformat": 4,
 "nbformat_minor": 5
}
