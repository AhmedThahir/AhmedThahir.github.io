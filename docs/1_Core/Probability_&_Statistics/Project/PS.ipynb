{
 "cells": [
  {
   "cell_type": "code",
   "execution_count": 165,
   "metadata": {},
   "outputs": [
    {
     "name": "stdout",
     "output_type": "stream",
     "text": [
      "Number of days \t\t5\n",
      "Number of arrivals \t250\n"
     ]
    },
    {
     "data": {
      "image/png": "[encoded data removed]",
      "text/plain": [
       "<Figure size 432x288 with 1 Axes>"
      ]
     },
     "metadata": {
      "needs_background": "light"
     },
     "output_type": "display_data"
    },
    {
     "name": "stdout",
     "output_type": "stream",
     "text": [
      "Interpretation\n",
      "\n",
      "In 5.0 day(s), the\n",
      "- Expected number of arrivals is 240.775\n",
      "- Probability of exactly 250 arrival(s) is 0.0212\n",
      "- Probability of atleast 250 arrival(s) is 0.2845\n",
      "- Probability of atmost 250 arrival(s) is 0.7367\n",
      "- Probability of less than 250 arrival(s) is 0.7155\n",
      "- Probability of greater than 250 arrival(s)(s) 0.2633\n"
     ]
    }
   ],
   "source": [
    "## The number of people arriving for treatment at a hospital daily can be modeled by a Poisson process\n",
    "\n",
    "import math\n",
    "from scipy.stats import poisson\n",
    "import matplotlib.pyplot as plt\n",
    "import pandas as pd\n",
    "data = pd.read_csv('P&S Dataset.csv')\n",
    "\n",
    "\n",
    "## Initialisation\n",
    "a = data[\"Number of patients\"].mean()\n",
    "t = float( input(\"Number of days \\t\\t\") )\n",
    "x = int( input(\"Number of arrivals \\t\") )\n",
    "mu = a*t\n",
    "sd = math.sqrt(mu)\n",
    "\n",
    "\n",
    "## processing\n",
    "exactly = poisson.pmf(x, mu)## P(X = x)\n",
    "atmost = poisson.cdf(x, mu) ## P(X <= x)\n",
    "less = atmost - exactly     ## P(X < x) = P(X <= x) - P(X = x)\n",
    "atleast = 1 - less   ## P(X >= x) = 1 - P(X < x)\n",
    "greater = 1 - atmost     ## P(X > x) = 1 - P(X <= x)\n",
    "\n",
    "\n",
    "#Graph\n",
    "f = []\n",
    "X = range( int(mu - 3*sd), int(mu + 3*sd) ) ## why simply plot everything\n",
    "for i in X:\n",
    "    f.append( poisson.pmf(i, mu) )\n",
    "\n",
    "plt.bar(X,f)\n",
    "plt.title(\"Poisson Probability Distribution\")\n",
    "plt.xlabel('No of arrivals')\n",
    "plt.ylabel('Probability')\n",
    "plt.show()\n",
    "\n",
    "\n",
    "#Interpretation    \n",
    "print(\"Interpretation\\n\")\n",
    "print(\"In\", t, \"day(s), the\")\n",
    "print(\"- Expected number of arrivals is\", round(mu, 4))\n",
    "print(\"- Probability of exactly\", x, \"arrival(s) is\", round(exactly, 4))\n",
    "print(\"- Probability of atleast\", x, \"arrival(s) is\", round(atleast, 4))\n",
    "print(\"- Probability of atmost\", x, \"arrival(s) is\", round(atmost, 4))\n",
    "print(\"- Probability of less than\", x, \"arrival(s) is\", round(less, 4))\n",
    "print(\"- Probability of greater than\", x, \"arrival(s)(s)\", round(greater, 4))"
   ]
  },
  {
   "cell_type": "code",
   "execution_count": null,
   "metadata": {},
   "outputs": [],
   "source": []
  }
 ],
 "metadata": {
  "kernelspec": {
   "display_name": "Python 3",
   "language": "python",
   "name": "python3"
  },
  "language_info": {
   "codemirror_mode": {
    "name": "ipython",
    "version": 3
   },
   "file_extension": ".py",
   "mimetype": "text/x-python",
   "name": "python",
   "nbconvert_exporter": "python",
   "pygments_lexer": "ipython3",
   "version": "3.8.5"
  }
 },
 "nbformat": 4,
 "nbformat_minor": 4
}
